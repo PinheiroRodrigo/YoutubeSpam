{
 "cells": [
  {
   "cell_type": "code",
   "execution_count": 1,
   "metadata": {},
   "outputs": [],
   "source": [
    "import csv\n",
    "import re\n",
    "import numpy as np\n",
    "from pandas import *\n",
    "from sklearn.feature_extraction.text import TfidfVectorizer, CountVectorizer"
   ]
  },
  {
   "cell_type": "code",
   "execution_count": 2,
   "metadata": {},
   "outputs": [],
   "source": [
    "# Read file\n",
    "reader = csv.reader(open(\"Eminem.csv\", \"r+\"), delimiter=\",\")\n",
    "# Transform into matrix\n",
    "full_matrix = list(reader)\n",
    "# Remove label names\n",
    "matrix = np.matrix(full_matrix[1:])\n",
    "# Remove unused columns\n",
    "matrix = matrix[:, 3:]"
   ]
  },
  {
   "cell_type": "code",
   "execution_count": 3,
   "metadata": {},
   "outputs": [],
   "source": [
    "# Regex to remove unwanted characters\n",
    "regex = re.compile('([^\\s\\w]|_)+')\n",
    "total_len = 0\n",
    "for x in matrix[:, 0]:\n",
    "    x[0, 0] = regex.sub(' ', x[0, 0])\n",
    "    # Get avg comment length\n",
    "    total_len += len(x[0])\n",
    "avg_len = total_len/len(matrix)"
   ]
  },
  {
   "cell_type": "code",
   "execution_count": 4,
   "metadata": {
    "scrolled": true
   },
   "outputs": [
    {
     "name": "stdout",
     "output_type": "stream",
     "text": [
      "[[0 0 0 ... 0 0 0]\n",
      " [0 0 0 ... 0 0 0]\n",
      " [0 0 0 ... 0 0 0]\n",
      " ...\n",
      " [0 0 0 ... 0 0 0]\n",
      " [0 0 0 ... 0 0 0]\n",
      " [0 0 0 ... 0 0 0]]\n"
     ]
    }
   ],
   "source": [
    "# Get a list of the comments\n",
    "comment_list = matrix[:, 0]\n",
    "output = np.concatenate(comment_list).ravel().tolist()[0]\n",
    "# Tokenize\n",
    "cv = CountVectorizer()\n",
    "ex = cv.fit_transform(output)\n",
    "print(ex.toarray())"
   ]
  },
  {
   "cell_type": "code",
   "execution_count": 5,
   "metadata": {},
   "outputs": [],
   "source": [
    "#print(avg_len)\n",
    "#print(pandas.DataFrame(matrix))"
   ]
  }
 ],
 "metadata": {
  "kernelspec": {
   "display_name": "Python 3",
   "language": "python",
   "name": "python3"
  },
  "language_info": {
   "codemirror_mode": {
    "name": "ipython",
    "version": 3
   },
   "file_extension": ".py",
   "mimetype": "text/x-python",
   "name": "python",
   "nbconvert_exporter": "python",
   "pygments_lexer": "ipython3",
   "version": "3.5.3"
  }
 },
 "nbformat": 4,
 "nbformat_minor": 2
}
