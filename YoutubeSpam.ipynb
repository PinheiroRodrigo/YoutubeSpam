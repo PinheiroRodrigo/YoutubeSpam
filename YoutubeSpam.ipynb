{
 "cells": [
  {
   "cell_type": "code",
   "execution_count": 1,
   "metadata": {},
   "outputs": [],
   "source": [
    "import csv\n",
    "import re\n",
    "import numpy as np\n",
    "from pandas import *\n",
    "from sklearn.feature_extraction.text import TfidfVectorizer, CountVectorizer\n",
    "from sklearn.model_selection import train_test_split\n",
    "# CLASSIFIERS\n",
    "from sklearn.naive_bayes import MultinomialNB\n",
    "from sklearn.neighbors import KNeighborsClassifier"
   ]
  },
  {
   "cell_type": "code",
   "execution_count": 2,
   "metadata": {},
   "outputs": [],
   "source": [
    "# TODO: use length of comments in the models\n",
    "\n",
    "def main(filename):\n",
    "    matrix = matrix_from_file(filename)\n",
    "    matrix = clean_and_put_length(matrix)\n",
    "    ocurrencies, vocabulary, dictionary = bag_of_words(matrix)\n",
    "    # Separe between train and test (p for params, l for labels)\n",
    "    (train_p, test_p, train_l, test_l) = (\n",
    "        train_test_split(ocurrencies, matrix[:, 2].ravel().tolist()[0], test_size=0.3))\n",
    "\n",
    "    # NAIVE BAYES CLASSIFIER\n",
    "    nb_score = naive_bayes_classifier(train_p, train_l, test_p, test_l)\n",
    "    print('NaiveBayes had an accuracy of {:.2%}'.format(nb_score))\n",
    "    # KNN CLASSIFIER\n",
    "    knn_2_score = knn_classifier(train_p, train_l, test_p, test_l, 2)\n",
    "    print('KNN-2 had an accuracy of {:.2%}'.format(knn_2_score))\n",
    "    knn_3_score = knn_classifier(train_p, train_l, test_p, test_l, 3)\n",
    "    print('KNN-3 had an accuracy of {:.2%}'.format(knn_3_score))\n"
   ]
  },
  {
   "cell_type": "code",
   "execution_count": 3,
   "metadata": {},
   "outputs": [],
   "source": [
    "# Read file and get Matrix\n",
    "def matrix_from_file(filename):\n",
    "    reader = csv.reader(open(filename, \"r+\"), delimiter=\",\")\n",
    "    # Transform into matrix\n",
    "    full_matrix = list(reader)\n",
    "    # Remove label names\n",
    "    matrix = np.matrix(full_matrix[1:])\n",
    "    # Remove unused columns\n",
    "    return matrix[:, 3:]"
   ]
  },
  {
   "cell_type": "code",
   "execution_count": null,
   "metadata": {},
   "outputs": [],
   "source": [
    "def clean_and_put_length(matrix):\n",
    "    # Regex to remove unwanted characters\n",
    "    regex = re.compile('([^\\s\\w]|_)+')\n",
    "    len_column = []\n",
    "    # Update matrix after regex replace\n",
    "    for x in matrix[:, 0]:\n",
    "        x[0, 0] = regex.sub(' ', x[0, 0])\n",
    "        # add comment length column\n",
    "        len_column.append(len(x[0, 0]))\n",
    "    # Transform into numpy array and insert into matrix\n",
    "    len_column = np.array(len_column)\n",
    "    matrix = np.insert(matrix, 0, len_column, axis=1)\n",
    "    return matrix"
   ]
  },
  {
   "cell_type": "code",
   "execution_count": 4,
   "metadata": {
    "scrolled": true
   },
   "outputs": [],
   "source": [
    "# Get ocurrencies of each word\n",
    "def bag_of_words(matrix):\n",
    "    comment_list = matrix[:, 1]\n",
    "    # Transform into a list with all comments\n",
    "    corpus = np.concatenate(comment_list).ravel().tolist()[0]\n",
    "    # Tokenize\n",
    "    cv = CountVectorizer()\n",
    "    # Get matrix of ocurrencies\n",
    "    ocurrencies = cv.fit_transform(corpus).todense()\n",
    "    vocabulary = cv.vocabulary_\n",
    "    dictionary = cv.get_feature_names()\n",
    "    return ocurrencies, vocabulary, dictionary"
   ]
  },
  {
   "cell_type": "code",
   "execution_count": 5,
   "metadata": {},
   "outputs": [],
   "source": [
    "def naive_bayes_classifier(train_p, train_l, test_p, test_l):\n",
    "    clf = MultinomialNB()\n",
    "    clf.fit(train_p, train_l)\n",
    "    score = clf.score(test_p, test_l)\n",
    "    return score"
   ]
  },
  {
   "cell_type": "code",
   "execution_count": 6,
   "metadata": {},
   "outputs": [],
   "source": [
    "def knn_classifier(train_p, train_l, test_p, test_l, neighbors):\n",
    "    knn = KNeighborsClassifier(n_neighbors=neighbors)\n",
    "    knn.fit(train_p, train_l)\n",
    "    score = knn.score(test_p, test_l)\n",
    "    return score"
   ]
  },
  {
   "cell_type": "code",
   "execution_count": 7,
   "metadata": {},
   "outputs": [
    {
     "ename": "NameError",
     "evalue": "name 'clean_and_put_length' is not defined",
     "output_type": "error",
     "traceback": [
      "\u001b[0;31m---------------------------------------------------------------------------\u001b[0m",
      "\u001b[0;31mNameError\u001b[0m                                 Traceback (most recent call last)",
      "\u001b[0;32m<ipython-input-7-c7245441145d>\u001b[0m in \u001b[0;36m<module>\u001b[0;34m()\u001b[0m\n\u001b[0;32m----> 1\u001b[0;31m \u001b[0mmain\u001b[0m\u001b[0;34m(\u001b[0m\u001b[0;34m\"Eminem.csv\"\u001b[0m\u001b[0;34m)\u001b[0m\u001b[0;34m\u001b[0m\u001b[0m\n\u001b[0m",
      "\u001b[0;32m<ipython-input-2-62cdb3cca40c>\u001b[0m in \u001b[0;36mmain\u001b[0;34m(filename)\u001b[0m\n\u001b[1;32m      3\u001b[0m \u001b[0;32mdef\u001b[0m \u001b[0mmain\u001b[0m\u001b[0;34m(\u001b[0m\u001b[0mfilename\u001b[0m\u001b[0;34m)\u001b[0m\u001b[0;34m:\u001b[0m\u001b[0;34m\u001b[0m\u001b[0m\n\u001b[1;32m      4\u001b[0m     \u001b[0mmatrix\u001b[0m \u001b[0;34m=\u001b[0m \u001b[0mmatrix_from_file\u001b[0m\u001b[0;34m(\u001b[0m\u001b[0mfilename\u001b[0m\u001b[0;34m)\u001b[0m\u001b[0;34m\u001b[0m\u001b[0m\n\u001b[0;32m----> 5\u001b[0;31m     \u001b[0mmatrix\u001b[0m \u001b[0;34m=\u001b[0m \u001b[0mclean_and_put_length\u001b[0m\u001b[0;34m(\u001b[0m\u001b[0mmatrix\u001b[0m\u001b[0;34m)\u001b[0m\u001b[0;34m\u001b[0m\u001b[0m\n\u001b[0m\u001b[1;32m      6\u001b[0m     \u001b[0mocurrencies\u001b[0m\u001b[0;34m,\u001b[0m \u001b[0mvocabulary\u001b[0m\u001b[0;34m,\u001b[0m \u001b[0mdictionary\u001b[0m \u001b[0;34m=\u001b[0m \u001b[0mbag_of_words\u001b[0m\u001b[0;34m(\u001b[0m\u001b[0mmatrix\u001b[0m\u001b[0;34m)\u001b[0m\u001b[0;34m\u001b[0m\u001b[0m\n\u001b[1;32m      7\u001b[0m     \u001b[0;31m# Separe between train and test (p for params, l for labels)\u001b[0m\u001b[0;34m\u001b[0m\u001b[0;34m\u001b[0m\u001b[0m\n",
      "\u001b[0;31mNameError\u001b[0m: name 'clean_and_put_length' is not defined"
     ]
    }
   ],
   "source": [
    "main(\"Eminem.csv\")"
   ]
  }
 ],
 "metadata": {
  "kernelspec": {
   "display_name": "Python 3",
   "language": "python",
   "name": "python3"
  },
  "language_info": {
   "codemirror_mode": {
    "name": "ipython",
    "version": 3
   },
   "file_extension": ".py",
   "mimetype": "text/x-python",
   "name": "python",
   "nbconvert_exporter": "python",
   "pygments_lexer": "ipython3",
   "version": "3.5.3"
  }
 },
 "nbformat": 4,
 "nbformat_minor": 2
}
